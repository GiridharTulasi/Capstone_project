{
  "cells": [
    {
      "cell_type": "code",
      "source": [
        "print(\"good\")"
      ],
      "metadata": {
        "id": "rnTgS7Zpw4s9"
      },
      "execution_count": null,
      "outputs": []
    }
  ],
  "metadata": {
    "colab": {
      "name": "Welcome To Colab",
      "toc_visible": true,
      "provenance": []
    },
    "kernelspec": {
      "display_name": "Python 3",
      "name": "python3"
    }
  },
  "nbformat": 4,
  "nbformat_minor": 0
}